{
 "cells": [
  {
   "cell_type": "markdown",
   "id": "173fc272",
   "metadata": {
    "papermill": {
     "duration": 0.004772,
     "end_time": "2023-09-10T20:19:42.556813",
     "exception": false,
     "start_time": "2023-09-10T20:19:42.552041",
     "status": "completed"
    },
    "tags": []
   },
   "source": [
    "# Arabic NUMBER Classification"
   ]
  },
  {
   "cell_type": "markdown",
   "id": "d4e96da9",
   "metadata": {
    "papermill": {
     "duration": 0.003815,
     "end_time": "2023-09-10T20:19:42.564831",
     "exception": false,
     "start_time": "2023-09-10T20:19:42.561016",
     "status": "completed"
    },
    "tags": []
   },
   "source": [
    "## Importing Necessary Libraries"
   ]
  },
  {
   "cell_type": "code",
   "execution_count": 2,
   "id": "51433a6d",
   "metadata": {
    "execution": {
     "iopub.execute_input": "2023-09-10T20:19:42.574824Z",
     "iopub.status.busy": "2023-09-10T20:19:42.574490Z",
     "iopub.status.idle": "2023-09-10T20:19:50.460326Z",
     "shell.execute_reply": "2023-09-10T20:19:50.459307Z"
    },
    "papermill": {
     "duration": 7.893705,
     "end_time": "2023-09-10T20:19:50.462489",
     "exception": false,
     "start_time": "2023-09-10T20:19:42.568784",
     "status": "completed"
    },
    "tags": []
   },
   "outputs": [],
   "source": [
    "import pandas as pd\n",
    "from keras import utils\n",
    "from keras.models import Sequential\n",
    "from keras.layers import Dense, Dropout, BatchNormalization\n",
    "import pandas as pd"
   ]
  },
  {
   "cell_type": "markdown",
   "id": "3ca9b178",
   "metadata": {
    "papermill": {
     "duration": 0.003652,
     "end_time": "2023-09-10T20:19:50.470283",
     "exception": false,
     "start_time": "2023-09-10T20:19:50.466631",
     "status": "completed"
    },
    "tags": []
   },
   "source": [
    "## Loading and Preprocessing the Dataset"
   ]
  },
  {
   "cell_type": "code",
   "execution_count": 10,
   "id": "e6433498",
   "metadata": {
    "execution": {
     "iopub.execute_input": "2023-09-10T20:19:50.479781Z",
     "iopub.status.busy": "2023-09-10T20:19:50.479211Z",
     "iopub.status.idle": "2023-09-10T20:19:54.326499Z",
     "shell.execute_reply": "2023-09-10T20:19:54.325393Z"
    },
    "papermill": {
     "duration": 3.854673,
     "end_time": "2023-09-10T20:19:54.328870",
     "exception": false,
     "start_time": "2023-09-10T20:19:50.474197",
     "status": "completed"
    },
    "tags": []
   },
   "outputs": [],
   "source": [
    "# Load the data\n",
    "image = pd.read_csv(\"C:/Users/HP\\Downloads/archive (8)/csvTrainImages 60k x 784.csv\").values\n",
    "label = pd.read_csv(\"C:/Users/HP/Downloads/archive (8)/csvTrainLabel 60k x 1.csv\").values\n",
    "image_test = pd.read_csv(\"C:/Users/HP/Downloads/archive (8)/csvTestImages 10k x 784.csv\").values\n",
    "label_test = pd.read_csv(\"C:/Users/HP/Downloads/archive (8)/csvTestLabel 10k x 1.csv\").values\n",
    "\n",
    "# Preprocess the data\n",
    "image = X_train.astype('float32') / 255.0\n",
    "label = X_test.astype('float32') / 255.0\n",
    "image_train = utils.to_categorical(Y_train)\n",
    "label_test = utils.to_categorical(Y_test)"
   ]
  },
  {
   "cell_type": "markdown",
   "id": "93580611",
   "metadata": {
    "papermill": {
     "duration": 0.003733,
     "end_time": "2023-09-10T20:19:54.336723",
     "exception": false,
     "start_time": "2023-09-10T20:19:54.332990",
     "status": "completed"
    },
    "tags": []
   },
   "source": [
    "## Building the Neural Network Model"
   ]
  },
  {
   "cell_type": "code",
   "execution_count": 11,
   "id": "e8e3552b",
   "metadata": {
    "execution": {
     "iopub.execute_input": "2023-09-10T20:19:54.345679Z",
     "iopub.status.busy": "2023-09-10T20:19:54.345365Z",
     "iopub.status.idle": "2023-09-10T20:19:54.652492Z",
     "shell.execute_reply": "2023-09-10T20:19:54.651593Z"
    },
    "papermill": {
     "duration": 0.313982,
     "end_time": "2023-09-10T20:19:54.654657",
     "exception": false,
     "start_time": "2023-09-10T20:19:54.340675",
     "status": "completed"
    },
    "tags": []
   },
   "outputs": [],
   "source": [
    "# Build the model\n",
    "model = Sequential([\n",
    "    Dense(784, input_dim=784, activation='relu'),\n",
    "    BatchNormalization(),\n",
    "    Dropout(0.5),\n",
    "    \n",
    "    Dense(512, activation='relu'),\n",
    "    BatchNormalization(),\n",
    "    Dropout(0.4),\n",
    "    \n",
    "    Dense(256, activation='relu'),\n",
    "    BatchNormalization(),\n",
    "    Dropout(0.3),\n",
    "    \n",
    "    Dense(128, activation='relu'),\n",
    "    BatchNormalization(),\n",
    "    Dropout(0.2),\n",
    "    \n",
    "    Dense(64, activation='relu'),\n",
    "    BatchNormalization(),\n",
    "    Dropout(0.1),\n",
    "    \n",
    "    Dense(32, activation='relu'),\n",
    "    BatchNormalization(),\n",
    "    \n",
    "    Dense(10, activation='softmax')\n",
    "])"
   ]
  },
  {
   "cell_type": "markdown",
   "id": "0cf2ea08",
   "metadata": {
    "papermill": {
     "duration": 0.00366,
     "end_time": "2023-09-10T20:19:54.662389",
     "exception": false,
     "start_time": "2023-09-10T20:19:54.658729",
     "status": "completed"
    },
    "tags": []
   },
   "source": [
    "## Compiling the Model"
   ]
  },
  {
   "cell_type": "code",
   "execution_count": 12,
   "id": "fc6705f2",
   "metadata": {
    "execution": {
     "iopub.execute_input": "2023-09-10T20:19:54.671347Z",
     "iopub.status.busy": "2023-09-10T20:19:54.671035Z",
     "iopub.status.idle": "2023-09-10T20:19:54.688213Z",
     "shell.execute_reply": "2023-09-10T20:19:54.687488Z"
    },
    "papermill": {
     "duration": 0.023996,
     "end_time": "2023-09-10T20:19:54.690093",
     "exception": false,
     "start_time": "2023-09-10T20:19:54.666097",
     "status": "completed"
    },
    "tags": []
   },
   "outputs": [],
   "source": [
    "# Compile the model\n",
    "model.compile(loss='categorical_crossentropy', optimizer='adam', metrics=['accuracy'])"
   ]
  },
  {
   "cell_type": "markdown",
   "id": "8e0405cc",
   "metadata": {
    "papermill": {
     "duration": 0.003756,
     "end_time": "2023-09-10T20:19:54.698138",
     "exception": false,
     "start_time": "2023-09-10T20:19:54.694382",
     "status": "completed"
    },
    "tags": []
   },
   "source": [
    "## Training the Model"
   ]
  },
  {
   "cell_type": "code",
   "execution_count": 13,
   "id": "2ca9a70d",
   "metadata": {
    "execution": {
     "iopub.execute_input": "2023-09-10T20:19:54.708194Z",
     "iopub.status.busy": "2023-09-10T20:19:54.706939Z",
     "iopub.status.idle": "2023-09-10T20:22:25.977184Z",
     "shell.execute_reply": "2023-09-10T20:22:25.976252Z"
    },
    "papermill": {
     "duration": 151.277022,
     "end_time": "2023-09-10T20:22:25.978978",
     "exception": false,
     "start_time": "2023-09-10T20:19:54.701956",
     "status": "completed"
    },
    "tags": []
   },
   "outputs": [
    {
     "name": "stdout",
     "output_type": "stream",
     "text": [
      "Epoch 1/20\n",
      "300/300 - 22s - loss: 0.3406 - accuracy: 0.9100 - val_loss: 0.1121 - val_accuracy: 0.9689 - 22s/epoch - 72ms/step\n",
      "Epoch 2/20\n",
      "300/300 - 14s - loss: 0.0966 - accuracy: 0.9744 - val_loss: 0.0791 - val_accuracy: 0.9791 - 14s/epoch - 48ms/step\n",
      "Epoch 3/20\n",
      "300/300 - 15s - loss: 0.0733 - accuracy: 0.9795 - val_loss: 0.0670 - val_accuracy: 0.9819 - 15s/epoch - 51ms/step\n",
      "Epoch 4/20\n",
      "300/300 - 14s - loss: 0.0593 - accuracy: 0.9833 - val_loss: 0.0683 - val_accuracy: 0.9821 - 14s/epoch - 46ms/step\n",
      "Epoch 5/20\n",
      "300/300 - 14s - loss: 0.0515 - accuracy: 0.9848 - val_loss: 0.0654 - val_accuracy: 0.9838 - 14s/epoch - 48ms/step\n",
      "Epoch 6/20\n",
      "300/300 - 14s - loss: 0.0463 - accuracy: 0.9870 - val_loss: 0.0586 - val_accuracy: 0.9862 - 14s/epoch - 47ms/step\n",
      "Epoch 7/20\n",
      "300/300 - 15s - loss: 0.0432 - accuracy: 0.9879 - val_loss: 0.0654 - val_accuracy: 0.9839 - 15s/epoch - 49ms/step\n",
      "Epoch 8/20\n",
      "300/300 - 14s - loss: 0.0422 - accuracy: 0.9878 - val_loss: 0.0648 - val_accuracy: 0.9835 - 14s/epoch - 46ms/step\n",
      "Epoch 9/20\n",
      "300/300 - 14s - loss: 0.0352 - accuracy: 0.9895 - val_loss: 0.0617 - val_accuracy: 0.9845 - 14s/epoch - 46ms/step\n",
      "Epoch 10/20\n",
      "300/300 - 15s - loss: 0.0349 - accuracy: 0.9901 - val_loss: 0.0617 - val_accuracy: 0.9858 - 15s/epoch - 51ms/step\n",
      "Epoch 11/20\n",
      "300/300 - 19s - loss: 0.0369 - accuracy: 0.9894 - val_loss: 0.0563 - val_accuracy: 0.9855 - 19s/epoch - 63ms/step\n",
      "Epoch 12/20\n",
      "300/300 - 18s - loss: 0.0313 - accuracy: 0.9907 - val_loss: 0.0606 - val_accuracy: 0.9848 - 18s/epoch - 59ms/step\n",
      "Epoch 13/20\n",
      "300/300 - 17s - loss: 0.0310 - accuracy: 0.9908 - val_loss: 0.0594 - val_accuracy: 0.9862 - 17s/epoch - 56ms/step\n",
      "Epoch 14/20\n",
      "300/300 - 16s - loss: 0.0303 - accuracy: 0.9908 - val_loss: 0.0587 - val_accuracy: 0.9861 - 16s/epoch - 53ms/step\n",
      "Epoch 15/20\n",
      "300/300 - 17s - loss: 0.0281 - accuracy: 0.9917 - val_loss: 0.0630 - val_accuracy: 0.9855 - 17s/epoch - 56ms/step\n",
      "Epoch 16/20\n",
      "300/300 - 16s - loss: 0.0268 - accuracy: 0.9924 - val_loss: 0.0602 - val_accuracy: 0.9851 - 16s/epoch - 53ms/step\n",
      "Epoch 17/20\n",
      "300/300 - 17s - loss: 0.0252 - accuracy: 0.9923 - val_loss: 0.0582 - val_accuracy: 0.9864 - 17s/epoch - 58ms/step\n",
      "Epoch 18/20\n",
      "300/300 - 18s - loss: 0.0244 - accuracy: 0.9930 - val_loss: 0.0636 - val_accuracy: 0.9848 - 18s/epoch - 58ms/step\n",
      "Epoch 19/20\n",
      "300/300 - 17s - loss: 0.0238 - accuracy: 0.9931 - val_loss: 0.0638 - val_accuracy: 0.9861 - 17s/epoch - 56ms/step\n",
      "Epoch 20/20\n",
      "300/300 - 16s - loss: 0.0226 - accuracy: 0.9933 - val_loss: 0.0612 - val_accuracy: 0.9867 - 16s/epoch - 53ms/step\n"
     ]
    }
   ],
   "source": [
    "# Train the model and save the history\n",
    "history = model.fit(X_train, Y_train, validation_data=(X_test, Y_test), epochs=20, batch_size=200, verbose=2)"
   ]
  },
  {
   "cell_type": "markdown",
   "id": "8a2b072f",
   "metadata": {
    "papermill": {
     "duration": 0.005879,
     "end_time": "2023-09-10T20:22:25.991338",
     "exception": false,
     "start_time": "2023-09-10T20:22:25.985459",
     "status": "completed"
    },
    "tags": []
   },
   "source": [
    "## Evaluating the Model"
   ]
  },
  {
   "cell_type": "code",
   "execution_count": 14,
   "id": "33810768",
   "metadata": {
    "execution": {
     "iopub.execute_input": "2023-09-10T20:22:26.004869Z",
     "iopub.status.busy": "2023-09-10T20:22:26.004552Z",
     "iopub.status.idle": "2023-09-10T20:22:27.339402Z",
     "shell.execute_reply": "2023-09-10T20:22:27.338188Z"
    },
    "papermill": {
     "duration": 1.343852,
     "end_time": "2023-09-10T20:22:27.341218",
     "exception": false,
     "start_time": "2023-09-10T20:22:25.997366",
     "status": "completed"
    },
    "tags": []
   },
   "outputs": [
    {
     "name": "stdout",
     "output_type": "stream",
     "text": [
      "313/313 [==============================] - 4s 12ms/step - loss: 0.0612 - accuracy: 0.9867\n",
      "Accuracy:  0.9866986870765686\n"
     ]
    }
   ],
   "source": [
    "# Evaluate the model\n",
    "scores = model.evaluate(X_test, Y_test)\n",
    "print(\"Accuracy: \", scores[1])"
   ]
  },
  {
   "cell_type": "markdown",
   "id": "44c1f321",
   "metadata": {
    "papermill": {
     "duration": 0.007062,
     "end_time": "2023-09-10T20:22:27.355725",
     "exception": false,
     "start_time": "2023-09-10T20:22:27.348663",
     "status": "completed"
    },
    "tags": []
   },
   "source": [
    "## Plotting Training and Validation Accuracy and Loss"
   ]
  },
  {
   "cell_type": "code",
   "execution_count": 15,
   "id": "1825949a",
   "metadata": {
    "execution": {
     "iopub.execute_input": "2023-09-10T20:22:27.371057Z",
     "iopub.status.busy": "2023-09-10T20:22:27.370778Z",
     "iopub.status.idle": "2023-09-10T20:22:27.791561Z",
     "shell.execute_reply": "2023-09-10T20:22:27.790567Z"
    },
    "papermill": {
     "duration": 0.430728,
     "end_time": "2023-09-10T20:22:27.793486",
     "exception": false,
     "start_time": "2023-09-10T20:22:27.362758",
     "status": "completed"
    },
    "tags": []
   },
   "outputs": [
    {
     "data": {
      "image/png": "[encoded data removed]",
      "text/plain": [
       "<Figure size 640x480 with 1 Axes>"
      ]
     },
     "metadata": {},
     "output_type": "display_data"
    },
    {
     "data": {
      "image/png": "[encoded data removed]",
      "text/plain": [
       "<Figure size 640x480 with 1 Axes>"
      ]
     },
     "metadata": {},
     "output_type": "display_data"
    }
   ],
   "source": [
    "import matplotlib.pyplot as plt\n",
    "\n",
    "# Plot training & validation accuracy values\n",
    "plt.plot(history.history['accuracy'])\n",
    "plt.plot(history.history['val_accuracy'])\n",
    "plt.title('Model accuracy')\n",
    "plt.ylabel('Accuracy')\n",
    "plt.xlabel('Epoch')\n",
    "plt.legend(['Train', 'Test'], loc='upper left')\n",
    "plt.show()\n",
    "\n",
    "# Plot training & validation loss values\n",
    "plt.plot(history.history['loss'])\n",
    "plt.plot(history.history['val_loss'])\n",
    "plt.title('Model loss')\n",
    "plt.ylabel('Loss')\n",
    "plt.xlabel('Epoch')\n",
    "plt.legend(['Train', 'Test'], loc='upper left')\n",
    "plt.show()"
   ]
  },
  {
   "cell_type": "code",
   "execution_count": null,
   "id": "f088e550",
   "metadata": {},
   "outputs": [],
   "source": []
  }
 ],
 "metadata": {
  "kernelspec": {
   "display_name": "Python 3 (ipykernel)",
   "language": "python",
   "name": "python3"
  },
  "language_info": {
   "codemirror_mode": {
    "name": "ipython",
    "version": 3
   },
   "file_extension": ".py",
   "mimetype": "text/x-python",
   "name": "python",
   "nbconvert_exporter": "python",
   "pygments_lexer": "ipython3",
   "version": "3.9.13"
  },
  "papermill": {
   "default_parameters": {},
   "duration": 170.165436,
   "end_time": "2023-09-10T20:22:30.074962",
   "environment_variables": {},
   "exception": null,
   "input_path": "__notebook__.ipynb",
   "output_path": "__notebook__.ipynb",
   "parameters": {},
   "start_time": "2023-09-10T20:19:39.909526",
   "version": "2.4.0"
  }
 },
 "nbformat": 4,
 "nbformat_minor": 5
}
